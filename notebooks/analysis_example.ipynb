{
 "cells": [
  {
   "cell_type": "markdown",
   "id": "581b2404",
   "metadata": {},
   "source": [
    "# 结果分析与可视化示例\n",
    "\n",
    "本 Notebook 用于分析不同引导方式下语言模型输出的偏见表现。"
   ]
  },
  {
   "cell_type": "markdown",
   "id": "5b08e49d",
   "metadata": {},
   "source": [
    "未分析，因为暂无api"
   ]
  }
 ],
 "metadata": {
  "kernelspec": {
   "display_name": "Python 3",
   "language": "python",
   "name": "python3"
  },
  "language_info": {
   "codemirror_mode": {
    "name": "ipython",
    "version": 3
   },
   "file_extension": ".py",
   "mimetype": "text/x-python",
   "name": "python",
   "nbconvert_exporter": "python",
   "pygments_lexer": "ipython3",
   "version": "3.11.9"
  }
 },
 "nbformat": 4,
 "nbformat_minor": 5
}
